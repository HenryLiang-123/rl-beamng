{
 "cells": [
  {
   "cell_type": "code",
   "execution_count": 43,
   "metadata": {},
   "outputs": [],
   "source": [
    "from beamngpy import BeamNGpy, Scenario, Vehicle\n",
    "beamng = BeamNGpy(\"localhost\", 25252, home=\"/home/henry/Desktop/BeamNG\")\n",
    "beamng.open()\n",
    "\n",
    "scenario = Scenario(\"smallgrid\", \"camera_streaming\")\n",
    "\n",
    "ego = Vehicle(\"ego\", model=\"etk800\", color=\"White\")\n",
    "scenario.add_vehicle(\n",
    "    ego, pos=(0,0,0), rot_quat=(0.0173, -0.0019, -0.6354, 0.7720)\n",
    ")\n",
    "\n",
    "scenario.make(beamng)\n",
    "\n",
    "beamng.settings.set_deterministic(60)\n",
    "\n",
    "beamng.control.pause()\n",
    "beamng.scenario.load(scenario)\n",
    "beamng.scenario.start()\n",
    "beamng.control.resume()\n",
    "\n",
    "# ego.ai.set_mode(\"traffic\")\n"
   ]
  },
  {
   "cell_type": "code",
   "execution_count": 24,
   "metadata": {},
   "outputs": [],
   "source": [
    "ego.ai.set_mode(\"traffic\")\n"
   ]
  },
  {
   "cell_type": "code",
   "execution_count": 21,
   "metadata": {},
   "outputs": [],
   "source": [
    "ego.set_lights(\n",
    "    left_signal=True,\n",
    "    right_signal=True,\n",
    "    hazard_signal=True,\n",
    "    headlights=2,\n",
    "    fog_lights=2,\n",
    "    lightbar=2,\n",
    ")"
   ]
  },
  {
   "cell_type": "code",
   "execution_count": 112,
   "metadata": {},
   "outputs": [],
   "source": [
    "ego.set_shift_mode(\"arcade\")\n",
    "ego.control(steering=0,throttle=20)\n",
    "ego.set_velocity(40)\n",
    "ego.sensors.poll()"
   ]
  },
  {
   "cell_type": "markdown",
   "metadata": {},
   "source": []
  },
  {
   "cell_type": "code",
   "execution_count": 53,
   "metadata": {},
   "outputs": [],
   "source": [
    "ego.set_color(\"Red\")"
   ]
  },
  {
   "cell_type": "code",
   "execution_count": 107,
   "metadata": {},
   "outputs": [],
   "source": [
    "ego.set_shift_mode(\"arcade\")"
   ]
  },
  {
   "cell_type": "code",
   "execution_count": 114,
   "metadata": {},
   "outputs": [],
   "source": [
    "ego.set_velocity(90)"
   ]
  },
  {
   "cell_type": "code",
   "execution_count": 56,
   "metadata": {},
   "outputs": [],
   "source": [
    "ego.control(steering=10, throttle=-10)"
   ]
  }
 ],
 "metadata": {
  "kernelspec": {
   "display_name": "msia_env",
   "language": "python",
   "name": "python3"
  },
  "language_info": {
   "codemirror_mode": {
    "name": "ipython",
    "version": 3
   },
   "file_extension": ".py",
   "mimetype": "text/x-python",
   "name": "python",
   "nbconvert_exporter": "python",
   "pygments_lexer": "ipython3",
   "version": "3.10.12"
  }
 },
 "nbformat": 4,
 "nbformat_minor": 2
}
