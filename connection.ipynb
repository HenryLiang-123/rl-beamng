{
 "cells": [
  {
   "cell_type": "code",
   "execution_count": 1,
   "metadata": {},
   "outputs": [],
   "source": [
    "from beamngpy import BeamNGpy, Scenario, Vehicle\n",
    "beamng = BeamNGpy(\"localhost\", 25252, home=\"/home/henry/Desktop/BeamNG\")\n",
    "beamng.open()\n",
    "\n",
    "scenario = Scenario(\"west_coast_usa\", \"camera_streaming\")\n",
    "\n",
    "ego = Vehicle(\"ego\", model=\"etk800\", color=\"White\")\n",
    "scenario.add_vehicle(\n",
    "    ego, pos=(-717.121, 101, 118.675), rot_quat=(0.0173, -0.0019, -0.6354, 0.7720)\n",
    ")\n",
    "\n",
    "scenario.make(beamng)\n",
    "\n",
    "beamng.settings.set_deterministic(60)\n",
    "\n",
    "beamng.control.pause()\n",
    "beamng.scenario.load(scenario)\n",
    "beamng.scenario.start()\n",
    "beamng.control.resume()\n",
    "\n",
    "# ego.ai.set_mode(\"traffic\")\n"
   ]
  },
  {
   "cell_type": "code",
   "execution_count": null,
   "metadata": {},
   "outputs": [],
   "source": [
    "from beamngpy.sensors import Camera, Lidar, Electrics, Damage\n",
    "\n",
    "electrics = Electrics()\n",
    "ego.attach_sensor('electrics', electrics)"
   ]
  },
  {
   "cell_type": "code",
   "execution_count": null,
   "metadata": {},
   "outputs": [],
   "source": [
    "damage = Damage()\n",
    "ego.attach_sensor('damage', damage)"
   ]
  },
  {
   "cell_type": "code",
   "execution_count": null,
   "metadata": {},
   "outputs": [],
   "source": [
    "ego.sensors.poll()"
   ]
  },
  {
   "cell_type": "code",
   "execution_count": null,
   "metadata": {},
   "outputs": [],
   "source": [
    "damage.data"
   ]
  },
  {
   "cell_type": "code",
   "execution_count": null,
   "metadata": {},
   "outputs": [],
   "source": [
    "image_width = 320\n",
    "image_height = 240\n",
    "camera = Camera('camera2', vehicle=ego, bng=beamng,\n",
    "                            pos=(0, -1, 1.7), # Position relative to vehicle\n",
    "                            dir=(0, -1, 0), # Forward-facing\n",
    "                            field_of_view_y=90,\n",
    "                            resolution=(image_width, image_height),\n",
    "                            near_far_planes=(0.1, 500), # closest and farthest objects to render\n",
    "                            )\n"
   ]
  },
  {
   "cell_type": "code",
   "execution_count": null,
   "metadata": {},
   "outputs": [],
   "source": [
    "# ego.recover()\n",
    "ego.teleport(\n",
    "   pos=(-717.121, 101, 118.675), rot_quat=(0.0173, -0.0019, -0.6354, 0.7720), reset=True\n",
    ")"
   ]
  },
  {
   "cell_type": "code",
   "execution_count": null,
   "metadata": {},
   "outputs": [],
   "source": [
    "data = camera.poll()"
   ]
  },
  {
   "cell_type": "code",
   "execution_count": null,
   "metadata": {},
   "outputs": [],
   "source": [
    "import matplotlib.pyplot as plt\n",
    "import numpy as np\n",
    "from IPython.display import clear_output\n",
    "from IPython.display import display\n",
    "while True:\n",
    "    fig, ax = plt.subplots(2, 2, figsize=(10, 10))\n",
    "    [axi.set_axis_off() for axi in ax.ravel()]\n",
    "    ax[0, 0].title.set_text(\"Camera\")\n",
    "    ax[0, 1].title.set_text(\"Depth\")\n",
    "    ax[1, 0].title.set_text(\"Class Annotation\")\n",
    "    ax[1, 1].title.set_text(\"Instance Annotation\")\n",
    "\n",
    "    for _ in range(10):\n",
    "        data = camera.poll()\n",
    "        ax[0, 0].imshow(np.asarray(data[\"colour\"].convert(\"RGB\")))\n",
    "        ax[0, 1].imshow(np.asarray(data[\"depth\"].convert(\"RGB\")))\n",
    "        ax[1, 0].imshow(np.asarray(data[\"annotation\"].convert(\"RGB\")))\n",
    "        # ax[1, 1].imshow(np.asarray(data[\"instance\"].convert(\"RGB\")))\n",
    "        display(fig)\n",
    "        clear_output(wait=True)\n",
    "camera.remove()"
   ]
  },
  {
   "cell_type": "code",
   "execution_count": null,
   "metadata": {},
   "outputs": [],
   "source": [
    "ego.ai.set_mode(\"traffic\")\n"
   ]
  },
  {
   "cell_type": "code",
   "execution_count": null,
   "metadata": {},
   "outputs": [],
   "source": [
    "ego.set_lights(\n",
    "    left_signal=True,\n",
    "    right_signal=True,\n",
    "    hazard_signal=True,\n",
    "    headlights=2,\n",
    "    fog_lights=2,\n",
    "    lightbar=2,\n",
    ")"
   ]
  },
  {
   "cell_type": "code",
   "execution_count": 39,
   "metadata": {},
   "outputs": [
    {
     "data": {
      "text/plain": [
       "True"
      ]
     },
     "execution_count": 39,
     "metadata": {},
     "output_type": "execute_result"
    }
   ],
   "source": [
    "ego.teleport(\n",
    "   pos=(-717.121, 101, 118.675), rot_quat=(0, 0, 0, 0), reset=True)"
   ]
  },
  {
   "cell_type": "code",
   "execution_count": 4,
   "metadata": {},
   "outputs": [
    {
     "name": "stdout",
     "output_type": "stream",
     "text": [
      "Vehicle is damaged\n",
      "Vehicle is damaged\n"
     ]
    }
   ],
   "source": [
    "from beamngpy.sensors import Camera, Lidar, Electrics, Damage\n",
    "\n",
    "damage = Damage()\n",
    "ego.attach_sensor('damage', damage)\n",
    "for i in range(100):\n",
    "    ego.set_shift_mode(\"arcade\")\n",
    "    ego.control(steering=0,throttle=0.5)\n",
    "    # ego.set_velocity(40)\n",
    "    ego.sensors.poll()\n",
    "    if damage.data['damage'] > 0:\n",
    "        print(\"Vehicle is damaged\")\n",
    "        ego.teleport(\n",
    "   pos=(-717.121, 101, 118.675), rot_quat=(0, 0, 0), reset=True\n",
    ")"
   ]
  },
  {
   "cell_type": "code",
   "execution_count": 36,
   "metadata": {},
   "outputs": [],
   "source": [
    "ego.set_shift_mode(\"arcade\")\n",
    "ego.control(steering=0,throttle=1)\n",
    "ego.set_velocity(200)\n",
    "ego.sensors.poll()"
   ]
  },
  {
   "cell_type": "markdown",
   "metadata": {},
   "source": []
  },
  {
   "cell_type": "code",
   "execution_count": null,
   "metadata": {},
   "outputs": [],
   "source": [
    "ego.set_color(\"Red\")"
   ]
  },
  {
   "cell_type": "code",
   "execution_count": null,
   "metadata": {},
   "outputs": [],
   "source": [
    "ego.set_shift_mode(\"arcade\")"
   ]
  },
  {
   "cell_type": "code",
   "execution_count": null,
   "metadata": {},
   "outputs": [],
   "source": [
    "ego.set_velocity(90)"
   ]
  },
  {
   "cell_type": "code",
   "execution_count": null,
   "metadata": {},
   "outputs": [],
   "source": [
    "ego.control(steering=10, throttle=-10)"
   ]
  }
 ],
 "metadata": {
  "kernelspec": {
   "display_name": "msia_env",
   "language": "python",
   "name": "python3"
  },
  "language_info": {
   "codemirror_mode": {
    "name": "ipython",
    "version": 3
   },
   "file_extension": ".py",
   "mimetype": "text/x-python",
   "name": "python",
   "nbconvert_exporter": "python",
   "pygments_lexer": "ipython3",
   "version": "3.10.12"
  }
 },
 "nbformat": 4,
 "nbformat_minor": 2
}
